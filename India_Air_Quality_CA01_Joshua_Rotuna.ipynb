{
  "nbformat": 4,
  "nbformat_minor": 0,
  "metadata": {
    "kernelspec": {
      "display_name": "Python 3",
      "language": "python",
      "name": "python3"
    },
    "language_info": {
      "codemirror_mode": {
        "name": "ipython",
        "version": 3
      },
      "file_extension": ".py",
      "mimetype": "text/x-python",
      "name": "python",
      "nbconvert_exporter": "python",
      "pygments_lexer": "ipython3",
      "version": "3.5.4"
    },
    "colab": {
      "name": "India_Air_Quality_CA01_Joshua_Rotuna.ipynb",
      "provenance": [],
      "collapsed_sections": []
    }
  },
  "cells": [
    {
      "cell_type": "markdown",
      "metadata": {
        "id": "iKEnF5cO8t0v"
      },
      "source": [
        "#Joshua Rotuna\n",
        "## Assignment Name: CA01 - Data Cleaning and Exploration of India Air Quality\n",
        "\n"
      ]
    },
    {
      "cell_type": "markdown",
      "metadata": {
        "id": "NyWkXYFH8t0x"
      },
      "source": [
        "# Program Inititialization Section\n",
        "## Enter your import packages here"
      ]
    },
    {
      "cell_type": "code",
      "metadata": {
        "collapsed": true,
        "id": "5W2pFIzJ8t0y"
      },
      "source": [
        "# import packages \n",
        "\n",
        "import pandas as pd\n",
        "import numpy as np\n",
        "from sklearn.impute import SimpleImputer\n",
        "import matplotlib.pyplot as plt\n"
      ],
      "execution_count": 1,
      "outputs": []
    },
    {
      "cell_type": "markdown",
      "metadata": {
        "id": "K6PToDjt8t0y"
      },
      "source": [
        "# Data File Reading Section\n",
        "## Write code to read in data from external sources here"
      ]
    },
    {
      "cell_type": "code",
      "metadata": {
        "id": "_M47H7rA8t0y",
        "colab": {
          "base_uri": "https://localhost:8080/"
        },
        "outputId": "fb4d240f-ced5-4ffb-8c41-430d36fc409a"
      },
      "source": [
        "#read datasets\n",
        "india = pd.read_csv('india_data.csv')"
      ],
      "execution_count": 2,
      "outputs": [
        {
          "output_type": "stream",
          "text": [
            "/usr/local/lib/python3.6/dist-packages/IPython/core/interactiveshell.py:2718: DtypeWarning: Columns (0) have mixed types.Specify dtype option on import or set low_memory=False.\n",
            "  interactivity=interactivity, compiler=compiler, result=result)\n"
          ],
          "name": "stderr"
        }
      ]
    },
    {
      "cell_type": "markdown",
      "metadata": {
        "id": "VPJBfZsn8t0z"
      },
      "source": [
        "# Initial Data Investigation Section\n",
        "\n",
        "## Summarized details\n",
        "### Generate descriptive statistics that summarize the central tendency, dispersion, and shape of a dataset’s distribution, excluding NaN values.\n",
        "#### Steps:\n",
        "#### 1. Statistical Description of data (data.describe)\n",
        "#### 2. Display number of total rows and columns of the dataset (data.shape)\n",
        "#### 3. Display number of non-null values for each column (data.count)\n",
        "#### 4. Display number of null values for each column (sum of data.isnull)\n",
        "#### 5. Display range, column, number of non-null objects of each column, datatype and memory usage (data.info)\n",
        "#### 6. Display Top 10 and Bottom 10 records (head and tail)"
      ]
    },
    {
      "cell_type": "code",
      "metadata": {
        "scrolled": false,
        "colab": {
          "base_uri": "https://localhost:8080/",
          "height": 835
        },
        "id": "JwGiaC598t01",
        "outputId": "69ddc20a-2d97-4971-9d64-a7a6c9dd45a4"
      },
      "source": [
        "# Summary Details\n",
        "\n",
        "india.describe()\n",
        "india.shape\n",
        "india.count()\n",
        "india.isnull().sum()\n",
        "india.info()\n",
        "india.head(10)\n",
        "india.tail(10)"
      ],
      "execution_count": 3,
      "outputs": [
        {
          "output_type": "stream",
          "text": [
            "<class 'pandas.core.frame.DataFrame'>\n",
            "RangeIndex: 435742 entries, 0 to 435741\n",
            "Data columns (total 13 columns):\n",
            " #   Column                       Non-Null Count   Dtype  \n",
            "---  ------                       --------------   -----  \n",
            " 0   stn_code                     291665 non-null  object \n",
            " 1   sampling_date                435739 non-null  object \n",
            " 2   state                        435742 non-null  object \n",
            " 3   location                     435739 non-null  object \n",
            " 4   agency                       286261 non-null  object \n",
            " 5   type                         430349 non-null  object \n",
            " 6   so2                          401096 non-null  float64\n",
            " 7   no2                          419509 non-null  float64\n",
            " 8   rspm                         395520 non-null  float64\n",
            " 9   spm                          198355 non-null  float64\n",
            " 10  location_monitoring_station  408251 non-null  object \n",
            " 11  pm2_5                        9314 non-null    float64\n",
            " 12  date                         435735 non-null  object \n",
            "dtypes: float64(5), object(8)\n",
            "memory usage: 43.2+ MB\n"
          ],
          "name": "stdout"
        },
        {
          "output_type": "execute_result",
          "data": {
            "text/html": [
              "<div>\n",
              "<style scoped>\n",
              "    .dataframe tbody tr th:only-of-type {\n",
              "        vertical-align: middle;\n",
              "    }\n",
              "\n",
              "    .dataframe tbody tr th {\n",
              "        vertical-align: top;\n",
              "    }\n",
              "\n",
              "    .dataframe thead th {\n",
              "        text-align: right;\n",
              "    }\n",
              "</style>\n",
              "<table border=\"1\" class=\"dataframe\">\n",
              "  <thead>\n",
              "    <tr style=\"text-align: right;\">\n",
              "      <th></th>\n",
              "      <th>stn_code</th>\n",
              "      <th>sampling_date</th>\n",
              "      <th>state</th>\n",
              "      <th>location</th>\n",
              "      <th>agency</th>\n",
              "      <th>type</th>\n",
              "      <th>so2</th>\n",
              "      <th>no2</th>\n",
              "      <th>rspm</th>\n",
              "      <th>spm</th>\n",
              "      <th>location_monitoring_station</th>\n",
              "      <th>pm2_5</th>\n",
              "      <th>date</th>\n",
              "    </tr>\n",
              "  </thead>\n",
              "  <tbody>\n",
              "    <tr>\n",
              "      <th>435732</th>\n",
              "      <td>SAMP</td>\n",
              "      <td>9/12/15</td>\n",
              "      <td>West Bengal</td>\n",
              "      <td>ULUBERIA</td>\n",
              "      <td>West Bengal State Pollution Control Board</td>\n",
              "      <td>RIRUO</td>\n",
              "      <td>22.0</td>\n",
              "      <td>50.0</td>\n",
              "      <td>145.0</td>\n",
              "      <td>NaN</td>\n",
              "      <td>Inside Rampal Industries,ULUBERIA</td>\n",
              "      <td>NaN</td>\n",
              "      <td>12/9/15</td>\n",
              "    </tr>\n",
              "    <tr>\n",
              "      <th>435733</th>\n",
              "      <td>SAMP</td>\n",
              "      <td>12/12/15</td>\n",
              "      <td>West Bengal</td>\n",
              "      <td>ULUBERIA</td>\n",
              "      <td>West Bengal State Pollution Control Board</td>\n",
              "      <td>RIRUO</td>\n",
              "      <td>34.0</td>\n",
              "      <td>61.0</td>\n",
              "      <td>161.0</td>\n",
              "      <td>NaN</td>\n",
              "      <td>Inside Rampal Industries,ULUBERIA</td>\n",
              "      <td>NaN</td>\n",
              "      <td>12/12/15</td>\n",
              "    </tr>\n",
              "    <tr>\n",
              "      <th>435734</th>\n",
              "      <td>SAMP</td>\n",
              "      <td>15-12-15</td>\n",
              "      <td>West Bengal</td>\n",
              "      <td>ULUBERIA</td>\n",
              "      <td>West Bengal State Pollution Control Board</td>\n",
              "      <td>RIRUO</td>\n",
              "      <td>20.0</td>\n",
              "      <td>44.0</td>\n",
              "      <td>148.0</td>\n",
              "      <td>NaN</td>\n",
              "      <td>Inside Rampal Industries,ULUBERIA</td>\n",
              "      <td>NaN</td>\n",
              "      <td>12/15/15</td>\n",
              "    </tr>\n",
              "    <tr>\n",
              "      <th>435735</th>\n",
              "      <td>SAMP</td>\n",
              "      <td>18-12-15</td>\n",
              "      <td>West Bengal</td>\n",
              "      <td>ULUBERIA</td>\n",
              "      <td>West Bengal State Pollution Control Board</td>\n",
              "      <td>RIRUO</td>\n",
              "      <td>17.0</td>\n",
              "      <td>44.0</td>\n",
              "      <td>131.0</td>\n",
              "      <td>NaN</td>\n",
              "      <td>Inside Rampal Industries,ULUBERIA</td>\n",
              "      <td>NaN</td>\n",
              "      <td>12/18/15</td>\n",
              "    </tr>\n",
              "    <tr>\n",
              "      <th>435736</th>\n",
              "      <td>SAMP</td>\n",
              "      <td>21-12-15</td>\n",
              "      <td>West Bengal</td>\n",
              "      <td>ULUBERIA</td>\n",
              "      <td>West Bengal State Pollution Control Board</td>\n",
              "      <td>RIRUO</td>\n",
              "      <td>18.0</td>\n",
              "      <td>45.0</td>\n",
              "      <td>140.0</td>\n",
              "      <td>NaN</td>\n",
              "      <td>Inside Rampal Industries,ULUBERIA</td>\n",
              "      <td>NaN</td>\n",
              "      <td>12/21/15</td>\n",
              "    </tr>\n",
              "    <tr>\n",
              "      <th>435737</th>\n",
              "      <td>SAMP</td>\n",
              "      <td>24-12-15</td>\n",
              "      <td>West Bengal</td>\n",
              "      <td>ULUBERIA</td>\n",
              "      <td>West Bengal State Pollution Control Board</td>\n",
              "      <td>RIRUO</td>\n",
              "      <td>22.0</td>\n",
              "      <td>50.0</td>\n",
              "      <td>143.0</td>\n",
              "      <td>NaN</td>\n",
              "      <td>Inside Rampal Industries,ULUBERIA</td>\n",
              "      <td>NaN</td>\n",
              "      <td>12/24/15</td>\n",
              "    </tr>\n",
              "    <tr>\n",
              "      <th>435738</th>\n",
              "      <td>SAMP</td>\n",
              "      <td>29-12-15</td>\n",
              "      <td>West Bengal</td>\n",
              "      <td>ULUBERIA</td>\n",
              "      <td>West Bengal State Pollution Control Board</td>\n",
              "      <td>RIRUO</td>\n",
              "      <td>20.0</td>\n",
              "      <td>46.0</td>\n",
              "      <td>171.0</td>\n",
              "      <td>NaN</td>\n",
              "      <td>Inside Rampal Industries,ULUBERIA</td>\n",
              "      <td>NaN</td>\n",
              "      <td>12/29/15</td>\n",
              "    </tr>\n",
              "    <tr>\n",
              "      <th>435739</th>\n",
              "      <td>NaN</td>\n",
              "      <td>NaN</td>\n",
              "      <td>andaman-and-nicobar-islands</td>\n",
              "      <td>NaN</td>\n",
              "      <td>NaN</td>\n",
              "      <td>NaN</td>\n",
              "      <td>NaN</td>\n",
              "      <td>NaN</td>\n",
              "      <td>NaN</td>\n",
              "      <td>NaN</td>\n",
              "      <td>NaN</td>\n",
              "      <td>NaN</td>\n",
              "      <td>NaN</td>\n",
              "    </tr>\n",
              "    <tr>\n",
              "      <th>435740</th>\n",
              "      <td>NaN</td>\n",
              "      <td>NaN</td>\n",
              "      <td>Lakshadweep</td>\n",
              "      <td>NaN</td>\n",
              "      <td>NaN</td>\n",
              "      <td>NaN</td>\n",
              "      <td>NaN</td>\n",
              "      <td>NaN</td>\n",
              "      <td>NaN</td>\n",
              "      <td>NaN</td>\n",
              "      <td>NaN</td>\n",
              "      <td>NaN</td>\n",
              "      <td>NaN</td>\n",
              "    </tr>\n",
              "    <tr>\n",
              "      <th>435741</th>\n",
              "      <td>NaN</td>\n",
              "      <td>NaN</td>\n",
              "      <td>Tripura</td>\n",
              "      <td>NaN</td>\n",
              "      <td>NaN</td>\n",
              "      <td>NaN</td>\n",
              "      <td>NaN</td>\n",
              "      <td>NaN</td>\n",
              "      <td>NaN</td>\n",
              "      <td>NaN</td>\n",
              "      <td>NaN</td>\n",
              "      <td>NaN</td>\n",
              "      <td>NaN</td>\n",
              "    </tr>\n",
              "  </tbody>\n",
              "</table>\n",
              "</div>"
            ],
            "text/plain": [
              "       stn_code sampling_date  ... pm2_5      date\n",
              "435732     SAMP       9/12/15  ...   NaN   12/9/15\n",
              "435733     SAMP      12/12/15  ...   NaN  12/12/15\n",
              "435734     SAMP      15-12-15  ...   NaN  12/15/15\n",
              "435735     SAMP      18-12-15  ...   NaN  12/18/15\n",
              "435736     SAMP      21-12-15  ...   NaN  12/21/15\n",
              "435737     SAMP      24-12-15  ...   NaN  12/24/15\n",
              "435738     SAMP      29-12-15  ...   NaN  12/29/15\n",
              "435739      NaN           NaN  ...   NaN       NaN\n",
              "435740      NaN           NaN  ...   NaN       NaN\n",
              "435741      NaN           NaN  ...   NaN       NaN\n",
              "\n",
              "[10 rows x 13 columns]"
            ]
          },
          "metadata": {
            "tags": []
          },
          "execution_count": 3
        }
      ]
    },
    {
      "cell_type": "code",
      "metadata": {
        "id": "JIRH6a10hTM8"
      },
      "source": [
        "# Adding new Year Column:\n",
        "india.date = pd.to_datetime(india.date)\n",
        "india['year'] = india.date.dt.year\n"
      ],
      "execution_count": 4,
      "outputs": []
    },
    {
      "cell_type": "markdown",
      "metadata": {
        "id": "WBGD8lJm8t02"
      },
      "source": [
        "## Cleansing the dataset\n",
        "### Dropping of less valued columns:\n",
        "1. stn_code, agency, sampling_date, location_monitoring_agency do not add much value to the dataset in terms of information. Therefore, we can drop those columns.\n",
        "\n",
        "2. Dropping rows where no date is available."
      ]
    },
    {
      "cell_type": "code",
      "metadata": {
        "id": "TdR0sm6O8t02",
        "colab": {
          "base_uri": "https://localhost:8080/"
        },
        "outputId": "a4961c0d-1de8-401c-d969-f9c6c857820e"
      },
      "source": [
        "# Cleaning up the data\n",
        "#dropping columns that aren't required\n",
        "india = india.drop(['stn_code', 'agency', 'sampling_date', 'location_monitoring_station'], axis =1 )\n",
        "\n",
        "# dropping rows where no date is available\n",
        "india = india[india['date'].notna()]\n",
        "india.isnull().sum()"
      ],
      "execution_count": 5,
      "outputs": [
        {
          "output_type": "execute_result",
          "data": {
            "text/plain": [
              "state            0\n",
              "location         0\n",
              "type          5390\n",
              "so2          34643\n",
              "no2          16230\n",
              "rspm         40219\n",
              "spm         237380\n",
              "pm2_5       426421\n",
              "date             0\n",
              "year             0\n",
              "dtype: int64"
            ]
          },
          "metadata": {
            "tags": []
          },
          "execution_count": 5
        }
      ]
    },
    {
      "cell_type": "code",
      "metadata": {
        "id": "CnIAe0SP8t02",
        "colab": {
          "base_uri": "https://localhost:8080/"
        },
        "outputId": "d60717e1-f2d0-49db-c7dd-a0bebc0759fd"
      },
      "source": [
        "# displaying final columns (data.columns)\n",
        "india.columns"
      ],
      "execution_count": 6,
      "outputs": [
        {
          "output_type": "execute_result",
          "data": {
            "text/plain": [
              "Index(['state', 'location', 'type', 'so2', 'no2', 'rspm', 'spm', 'pm2_5',\n",
              "       'date', 'year'],\n",
              "      dtype='object')"
            ]
          },
          "metadata": {
            "tags": []
          },
          "execution_count": 6
        }
      ]
    },
    {
      "cell_type": "markdown",
      "metadata": {
        "id": "CGlY448c8t03"
      },
      "source": [
        "### Changing the types to uniform format:\n",
        "\n",
        "Notice that the ‘type’ column has values such as ‘Industrial Area’ and ‘Industrial Areas’ — both actually mean the same, so let’s remove such type of stuff and make it uniform. Replace the 'type' values with standard codes as follows:\n",
        "\n",
        "types = {\n",
        "    \"Residential\": \"R\",\n",
        "    \"Residential and others\": \"RO\",\n",
        "    \"Residential, Rural and other Areas\": \"RRO\",\n",
        "    \"Industrial Area\": \"I\",\n",
        "    \"Industrial Areas\": \"I\",\n",
        "    \"Industrial\": \"I\",\n",
        "    \"Sensitive Area\": \"S\",\n",
        "    \"Sensitive Areas\": \"S\",\n",
        "    \"Sensitive\": \"S\",\n",
        "    np.nan: \"RRO\"\n",
        "}\n",
        "\n",
        "data.type = data.type.replace(types)"
      ]
    },
    {
      "cell_type": "code",
      "metadata": {
        "id": "bDwOsJyB8t03",
        "colab": {
          "base_uri": "https://localhost:8080/"
        },
        "outputId": "4b233a31-7136-4663-aeee-c27505acfb0e"
      },
      "source": [
        "india.type = india.type.replace({ \"Residential\": \"R\", \"Residential and others\": \"RO\", \"Residential, Rural and other Areas\": \"RRO\", \"Industrial Area\": \"I\", \"Industrial Areas\": \"I\", \"Industrial\": \"I\", \"Sensitive Area\": \"S\", \"Sensitive Areas\": \"S\", \"Sensitive\": \"S\", np.nan: \"RRO\" })\n",
        "india.type.unique()"
      ],
      "execution_count": 7,
      "outputs": [
        {
          "output_type": "execute_result",
          "data": {
            "text/plain": [
              "array(['RRO', 'I', 'S', 'RO', 'R', 'RIRUO'], dtype=object)"
            ]
          },
          "metadata": {
            "tags": []
          },
          "execution_count": 7
        }
      ]
    },
    {
      "cell_type": "code",
      "metadata": {
        "id": "61h7p_-R8t03",
        "colab": {
          "base_uri": "https://localhost:8080/",
          "height": 359
        },
        "outputId": "e633469b-a51b-4254-91a9-5e76ac07f20a"
      },
      "source": [
        "# Display top 10 records after codification of 'types'\n",
        "india.head(10)"
      ],
      "execution_count": 8,
      "outputs": [
        {
          "output_type": "execute_result",
          "data": {
            "text/html": [
              "<div>\n",
              "<style scoped>\n",
              "    .dataframe tbody tr th:only-of-type {\n",
              "        vertical-align: middle;\n",
              "    }\n",
              "\n",
              "    .dataframe tbody tr th {\n",
              "        vertical-align: top;\n",
              "    }\n",
              "\n",
              "    .dataframe thead th {\n",
              "        text-align: right;\n",
              "    }\n",
              "</style>\n",
              "<table border=\"1\" class=\"dataframe\">\n",
              "  <thead>\n",
              "    <tr style=\"text-align: right;\">\n",
              "      <th></th>\n",
              "      <th>state</th>\n",
              "      <th>location</th>\n",
              "      <th>type</th>\n",
              "      <th>so2</th>\n",
              "      <th>no2</th>\n",
              "      <th>rspm</th>\n",
              "      <th>spm</th>\n",
              "      <th>pm2_5</th>\n",
              "      <th>date</th>\n",
              "      <th>year</th>\n",
              "    </tr>\n",
              "  </thead>\n",
              "  <tbody>\n",
              "    <tr>\n",
              "      <th>0</th>\n",
              "      <td>Andhra Pradesh</td>\n",
              "      <td>Hyderabad</td>\n",
              "      <td>RRO</td>\n",
              "      <td>4.8</td>\n",
              "      <td>17.4</td>\n",
              "      <td>NaN</td>\n",
              "      <td>NaN</td>\n",
              "      <td>NaN</td>\n",
              "      <td>1990-02-01</td>\n",
              "      <td>1990.0</td>\n",
              "    </tr>\n",
              "    <tr>\n",
              "      <th>1</th>\n",
              "      <td>Andhra Pradesh</td>\n",
              "      <td>Hyderabad</td>\n",
              "      <td>I</td>\n",
              "      <td>3.1</td>\n",
              "      <td>7.0</td>\n",
              "      <td>NaN</td>\n",
              "      <td>NaN</td>\n",
              "      <td>NaN</td>\n",
              "      <td>1990-02-01</td>\n",
              "      <td>1990.0</td>\n",
              "    </tr>\n",
              "    <tr>\n",
              "      <th>2</th>\n",
              "      <td>Andhra Pradesh</td>\n",
              "      <td>Hyderabad</td>\n",
              "      <td>RRO</td>\n",
              "      <td>6.2</td>\n",
              "      <td>28.5</td>\n",
              "      <td>NaN</td>\n",
              "      <td>NaN</td>\n",
              "      <td>NaN</td>\n",
              "      <td>1990-02-01</td>\n",
              "      <td>1990.0</td>\n",
              "    </tr>\n",
              "    <tr>\n",
              "      <th>3</th>\n",
              "      <td>Andhra Pradesh</td>\n",
              "      <td>Hyderabad</td>\n",
              "      <td>RRO</td>\n",
              "      <td>6.3</td>\n",
              "      <td>14.7</td>\n",
              "      <td>NaN</td>\n",
              "      <td>NaN</td>\n",
              "      <td>NaN</td>\n",
              "      <td>1990-03-01</td>\n",
              "      <td>1990.0</td>\n",
              "    </tr>\n",
              "    <tr>\n",
              "      <th>4</th>\n",
              "      <td>Andhra Pradesh</td>\n",
              "      <td>Hyderabad</td>\n",
              "      <td>I</td>\n",
              "      <td>4.7</td>\n",
              "      <td>7.5</td>\n",
              "      <td>NaN</td>\n",
              "      <td>NaN</td>\n",
              "      <td>NaN</td>\n",
              "      <td>1990-03-01</td>\n",
              "      <td>1990.0</td>\n",
              "    </tr>\n",
              "    <tr>\n",
              "      <th>5</th>\n",
              "      <td>Andhra Pradesh</td>\n",
              "      <td>Hyderabad</td>\n",
              "      <td>RRO</td>\n",
              "      <td>6.4</td>\n",
              "      <td>25.7</td>\n",
              "      <td>NaN</td>\n",
              "      <td>NaN</td>\n",
              "      <td>NaN</td>\n",
              "      <td>1990-03-01</td>\n",
              "      <td>1990.0</td>\n",
              "    </tr>\n",
              "    <tr>\n",
              "      <th>6</th>\n",
              "      <td>Andhra Pradesh</td>\n",
              "      <td>Hyderabad</td>\n",
              "      <td>RRO</td>\n",
              "      <td>5.4</td>\n",
              "      <td>17.1</td>\n",
              "      <td>NaN</td>\n",
              "      <td>NaN</td>\n",
              "      <td>NaN</td>\n",
              "      <td>1990-04-01</td>\n",
              "      <td>1990.0</td>\n",
              "    </tr>\n",
              "    <tr>\n",
              "      <th>7</th>\n",
              "      <td>Andhra Pradesh</td>\n",
              "      <td>Hyderabad</td>\n",
              "      <td>I</td>\n",
              "      <td>4.7</td>\n",
              "      <td>8.7</td>\n",
              "      <td>NaN</td>\n",
              "      <td>NaN</td>\n",
              "      <td>NaN</td>\n",
              "      <td>1990-04-01</td>\n",
              "      <td>1990.0</td>\n",
              "    </tr>\n",
              "    <tr>\n",
              "      <th>8</th>\n",
              "      <td>Andhra Pradesh</td>\n",
              "      <td>Hyderabad</td>\n",
              "      <td>RRO</td>\n",
              "      <td>4.2</td>\n",
              "      <td>23.0</td>\n",
              "      <td>NaN</td>\n",
              "      <td>NaN</td>\n",
              "      <td>NaN</td>\n",
              "      <td>1990-04-01</td>\n",
              "      <td>1990.0</td>\n",
              "    </tr>\n",
              "    <tr>\n",
              "      <th>9</th>\n",
              "      <td>Andhra Pradesh</td>\n",
              "      <td>Hyderabad</td>\n",
              "      <td>I</td>\n",
              "      <td>4.0</td>\n",
              "      <td>8.9</td>\n",
              "      <td>NaN</td>\n",
              "      <td>NaN</td>\n",
              "      <td>NaN</td>\n",
              "      <td>1990-05-01</td>\n",
              "      <td>1990.0</td>\n",
              "    </tr>\n",
              "  </tbody>\n",
              "</table>\n",
              "</div>"
            ],
            "text/plain": [
              "            state   location type  so2  ...  spm  pm2_5       date    year\n",
              "0  Andhra Pradesh  Hyderabad  RRO  4.8  ...  NaN    NaN 1990-02-01  1990.0\n",
              "1  Andhra Pradesh  Hyderabad    I  3.1  ...  NaN    NaN 1990-02-01  1990.0\n",
              "2  Andhra Pradesh  Hyderabad  RRO  6.2  ...  NaN    NaN 1990-02-01  1990.0\n",
              "3  Andhra Pradesh  Hyderabad  RRO  6.3  ...  NaN    NaN 1990-03-01  1990.0\n",
              "4  Andhra Pradesh  Hyderabad    I  4.7  ...  NaN    NaN 1990-03-01  1990.0\n",
              "5  Andhra Pradesh  Hyderabad  RRO  6.4  ...  NaN    NaN 1990-03-01  1990.0\n",
              "6  Andhra Pradesh  Hyderabad  RRO  5.4  ...  NaN    NaN 1990-04-01  1990.0\n",
              "7  Andhra Pradesh  Hyderabad    I  4.7  ...  NaN    NaN 1990-04-01  1990.0\n",
              "8  Andhra Pradesh  Hyderabad  RRO  4.2  ...  NaN    NaN 1990-04-01  1990.0\n",
              "9  Andhra Pradesh  Hyderabad    I  4.0  ...  NaN    NaN 1990-05-01  1990.0\n",
              "\n",
              "[10 rows x 10 columns]"
            ]
          },
          "metadata": {
            "tags": []
          },
          "execution_count": 8
        }
      ]
    },
    {
      "cell_type": "markdown",
      "metadata": {
        "id": "179fD-ap8t04"
      },
      "source": [
        "### Creating a year column\n",
        "To view the trend over a period of time, we need year values for each row and also when you see in most of the values in date column only has ‘year’ value. So, let’s create a new column holding year values. Convert the column to 'datetime' type and extract the year to populate the new column. Display Top 5 records after the conversion."
      ]
    },
    {
      "cell_type": "code",
      "metadata": {
        "id": "xzEYPp-48t04",
        "colab": {
          "base_uri": "https://localhost:8080/",
          "height": 204
        },
        "outputId": "910c56f9-e569-4c7f-a870-f0757b1e8ca0"
      },
      "source": [
        "india.date = pd.to_datetime(india.date)\n",
        "india['year'] = india.date.dt.year\n",
        "india.head()"
      ],
      "execution_count": 9,
      "outputs": [
        {
          "output_type": "execute_result",
          "data": {
            "text/html": [
              "<div>\n",
              "<style scoped>\n",
              "    .dataframe tbody tr th:only-of-type {\n",
              "        vertical-align: middle;\n",
              "    }\n",
              "\n",
              "    .dataframe tbody tr th {\n",
              "        vertical-align: top;\n",
              "    }\n",
              "\n",
              "    .dataframe thead th {\n",
              "        text-align: right;\n",
              "    }\n",
              "</style>\n",
              "<table border=\"1\" class=\"dataframe\">\n",
              "  <thead>\n",
              "    <tr style=\"text-align: right;\">\n",
              "      <th></th>\n",
              "      <th>state</th>\n",
              "      <th>location</th>\n",
              "      <th>type</th>\n",
              "      <th>so2</th>\n",
              "      <th>no2</th>\n",
              "      <th>rspm</th>\n",
              "      <th>spm</th>\n",
              "      <th>pm2_5</th>\n",
              "      <th>date</th>\n",
              "      <th>year</th>\n",
              "    </tr>\n",
              "  </thead>\n",
              "  <tbody>\n",
              "    <tr>\n",
              "      <th>0</th>\n",
              "      <td>Andhra Pradesh</td>\n",
              "      <td>Hyderabad</td>\n",
              "      <td>RRO</td>\n",
              "      <td>4.8</td>\n",
              "      <td>17.4</td>\n",
              "      <td>NaN</td>\n",
              "      <td>NaN</td>\n",
              "      <td>NaN</td>\n",
              "      <td>1990-02-01</td>\n",
              "      <td>1990</td>\n",
              "    </tr>\n",
              "    <tr>\n",
              "      <th>1</th>\n",
              "      <td>Andhra Pradesh</td>\n",
              "      <td>Hyderabad</td>\n",
              "      <td>I</td>\n",
              "      <td>3.1</td>\n",
              "      <td>7.0</td>\n",
              "      <td>NaN</td>\n",
              "      <td>NaN</td>\n",
              "      <td>NaN</td>\n",
              "      <td>1990-02-01</td>\n",
              "      <td>1990</td>\n",
              "    </tr>\n",
              "    <tr>\n",
              "      <th>2</th>\n",
              "      <td>Andhra Pradesh</td>\n",
              "      <td>Hyderabad</td>\n",
              "      <td>RRO</td>\n",
              "      <td>6.2</td>\n",
              "      <td>28.5</td>\n",
              "      <td>NaN</td>\n",
              "      <td>NaN</td>\n",
              "      <td>NaN</td>\n",
              "      <td>1990-02-01</td>\n",
              "      <td>1990</td>\n",
              "    </tr>\n",
              "    <tr>\n",
              "      <th>3</th>\n",
              "      <td>Andhra Pradesh</td>\n",
              "      <td>Hyderabad</td>\n",
              "      <td>RRO</td>\n",
              "      <td>6.3</td>\n",
              "      <td>14.7</td>\n",
              "      <td>NaN</td>\n",
              "      <td>NaN</td>\n",
              "      <td>NaN</td>\n",
              "      <td>1990-03-01</td>\n",
              "      <td>1990</td>\n",
              "    </tr>\n",
              "    <tr>\n",
              "      <th>4</th>\n",
              "      <td>Andhra Pradesh</td>\n",
              "      <td>Hyderabad</td>\n",
              "      <td>I</td>\n",
              "      <td>4.7</td>\n",
              "      <td>7.5</td>\n",
              "      <td>NaN</td>\n",
              "      <td>NaN</td>\n",
              "      <td>NaN</td>\n",
              "      <td>1990-03-01</td>\n",
              "      <td>1990</td>\n",
              "    </tr>\n",
              "  </tbody>\n",
              "</table>\n",
              "</div>"
            ],
            "text/plain": [
              "            state   location type  so2   no2  rspm  spm  pm2_5       date  year\n",
              "0  Andhra Pradesh  Hyderabad  RRO  4.8  17.4   NaN  NaN    NaN 1990-02-01  1990\n",
              "1  Andhra Pradesh  Hyderabad    I  3.1   7.0   NaN  NaN    NaN 1990-02-01  1990\n",
              "2  Andhra Pradesh  Hyderabad  RRO  6.2  28.5   NaN  NaN    NaN 1990-02-01  1990\n",
              "3  Andhra Pradesh  Hyderabad  RRO  6.3  14.7   NaN  NaN    NaN 1990-03-01  1990\n",
              "4  Andhra Pradesh  Hyderabad    I  4.7   7.5   NaN  NaN    NaN 1990-03-01  1990"
            ]
          },
          "metadata": {
            "tags": []
          },
          "execution_count": 9
        }
      ]
    },
    {
      "cell_type": "markdown",
      "metadata": {
        "id": "-roqiyyr8t04"
      },
      "source": [
        "### Handling Missing Values\n",
        "\n",
        "The column such as SO2, NO2, rspm, spm, pm2_5 are the ones which contribute much to our analysis. So, we need to remove null from those columns to avoid inaccuracy in the prediction.\n",
        "We use the Imputer from sklearn.preprocessing to fill the missing values in every column with the mean."
      ]
    },
    {
      "cell_type": "code",
      "metadata": {
        "collapsed": true,
        "id": "SpN6r1nr8t04",
        "colab": {
          "base_uri": "https://localhost:8080/"
        },
        "outputId": "49f35685-eaa0-4c41-e742-d055bfea3663"
      },
      "source": [
        "# define columns of importance, which shall be used reguarly (COLS = ....)\n",
        "# invoke SimpleImputer to fill missing values using 'mean' as the replacement strategy\n",
        "# Display data.info after the transformation\n",
        "# Display that there are no more missing values in the dataset\n",
        "\n",
        "from sklearn.impute import SimpleImputer\n",
        "imp_mean = SimpleImputer(missing_values=np.nan, strategy = 'mean')\n",
        "\n",
        "# Defining columns of importance\n",
        "cols = 'so2', 'no2', 'rspm', 'spm', 'pm2_5'\n",
        "\n",
        "# Use SimpleImputer to fill missing values with 'mean' as the strategy\n",
        "imputer = SimpleImputer(missing_values=np.nan, strategy='mean')\n",
        "india[['so2', 'no2', 'rspm', 'spm', 'pm2_5']] = imputer.fit_transform(india[['so2', 'no2', 'rspm', 'spm', 'pm2_5']])\n",
        "\n",
        "# Display data.info after the transformation\n",
        "india.info()\n",
        "\n",
        "# Display that there are no more missing values in the dataset\n",
        "india.isnull().sum()"
      ],
      "execution_count": 10,
      "outputs": [
        {
          "output_type": "stream",
          "text": [
            "<class 'pandas.core.frame.DataFrame'>\n",
            "Int64Index: 435735 entries, 0 to 435738\n",
            "Data columns (total 10 columns):\n",
            " #   Column    Non-Null Count   Dtype         \n",
            "---  ------    --------------   -----         \n",
            " 0   state     435735 non-null  object        \n",
            " 1   location  435735 non-null  object        \n",
            " 2   type      435735 non-null  object        \n",
            " 3   so2       435735 non-null  float64       \n",
            " 4   no2       435735 non-null  float64       \n",
            " 5   rspm      435735 non-null  float64       \n",
            " 6   spm       435735 non-null  float64       \n",
            " 7   pm2_5     435735 non-null  float64       \n",
            " 8   date      435735 non-null  datetime64[ns]\n",
            " 9   year      435735 non-null  int64         \n",
            "dtypes: datetime64[ns](1), float64(5), int64(1), object(3)\n",
            "memory usage: 36.6+ MB\n"
          ],
          "name": "stdout"
        },
        {
          "output_type": "execute_result",
          "data": {
            "text/plain": [
              "state       0\n",
              "location    0\n",
              "type        0\n",
              "so2         0\n",
              "no2         0\n",
              "rspm        0\n",
              "spm         0\n",
              "pm2_5       0\n",
              "date        0\n",
              "year        0\n",
              "dtype: int64"
            ]
          },
          "metadata": {
            "tags": []
          },
          "execution_count": 10
        }
      ]
    },
    {
      "cell_type": "markdown",
      "metadata": {
        "id": "d_fonnIx8t05"
      },
      "source": [
        "## Statewise Grouping of so2, no2, rspm, spm values\n",
        "\n",
        "Calculate median values of so2, no2, rspm, spm for each state and display in (a) as table (b) bar chart, with values sorted in ascending order. Separate section for each of the component. Use matplotlib()."
      ]
    },
    {
      "cell_type": "markdown",
      "metadata": {
        "id": "d0q8fmD-8t05"
      },
      "source": [
        "### so2 status"
      ]
    },
    {
      "cell_type": "code",
      "metadata": {
        "id": "k49qxEFs8t05",
        "colab": {
          "base_uri": "https://localhost:8080/"
        },
        "outputId": "b8a21290-777e-458f-bf2d-aee00bcc04aa"
      },
      "source": [
        "so2 = india.groupby('state').so2.median().sort_values(ascending=True)\n",
        "so2"
      ],
      "execution_count": 28,
      "outputs": [
        {
          "output_type": "execute_result",
          "data": {
            "text/plain": [
              "state\n",
              "Nagaland                 2.000000\n",
              "Mizoram                  2.000000\n",
              "Meghalaya                2.000000\n",
              "Arunachal Pradesh        2.500000\n",
              "Himachal Pradesh         3.000000\n",
              "Kerala                   4.200000\n",
              "Telangana                5.000000\n",
              "Odisha                   5.000000\n",
              "Jammu & Kashmir          5.000000\n",
              "Andhra Pradesh           5.000000\n",
              "Goa                      6.000000\n",
              "Rajasthan                6.300000\n",
              "Delhi                    6.300000\n",
              "Assam                    6.500000\n",
              "Puducherry               7.266667\n",
              "Daman & Diu              7.600000\n",
              "Chandigarh               7.950000\n",
              "West Bengal              8.000000\n",
              "Dadra & Nagar Haveli     8.400000\n",
              "Karnataka               10.000000\n",
              "Uttar Pradesh           10.000000\n",
              "Tamil Nadu              10.000000\n",
              "Punjab                  10.300000\n",
              "Manipur                 10.829428\n",
              "Bihar                   10.829428\n",
              "Haryana                 10.829428\n",
              "Madhya Pradesh          10.829428\n",
              "Chhattisgarh            12.500000\n",
              "Maharashtra             13.000000\n",
              "Gujarat                 14.200000\n",
              "Jharkhand               18.700000\n",
              "Sikkim                  19.800000\n",
              "Uttarakhand             21.000000\n",
              "Uttaranchal             25.100000\n",
              "Name: so2, dtype: float64"
            ]
          },
          "metadata": {
            "tags": []
          },
          "execution_count": 28
        }
      ]
    },
    {
      "cell_type": "code",
      "metadata": {
        "colab": {
          "base_uri": "https://localhost:8080/",
          "height": 395
        },
        "id": "ZJE1gNuPCGXl",
        "outputId": "a8c31c71-27e7-4ada-eb42-dd0def377bb8"
      },
      "source": [
        "# SO2 Bar Chart By State\n",
        "plt.bar(so2.index,so2)\n",
        "plt.xticks(rotation = 90)\n",
        "plt.title('SO2 levels since 1990 by State')\n",
        "plt.xlabel('State')\n",
        "plt.ylabel('SO2 Level')\n",
        "plt.show()"
      ],
      "execution_count": 12,
      "outputs": [
        {
          "output_type": "display_data",
          "data": {
            "image/png": "[encoded data removed]",
            "text/plain": [
              "<Figure size 432x288 with 1 Axes>"
            ]
          },
          "metadata": {
            "tags": [],
            "needs_background": "light"
          }
        }
      ]
    },
    {
      "cell_type": "markdown",
      "metadata": {
        "id": "02SCQEcy8t05"
      },
      "source": [
        "### no2 status"
      ]
    },
    {
      "cell_type": "code",
      "metadata": {
        "id": "0WUu_q7m8t06",
        "colab": {
          "base_uri": "https://localhost:8080/"
        },
        "outputId": "fc72edce-fe65-4550-fa54-3b41b7fda886"
      },
      "source": [
        "no2 = india.groupby('state').no2.median().sort_values(ascending=True)\n",
        "no2"
      ],
      "execution_count": 29,
      "outputs": [
        {
          "output_type": "execute_result",
          "data": {
            "text/plain": [
              "state\n",
              "Arunachal Pradesh        5.000000\n",
              "Mizoram                  5.000000\n",
              "Nagaland                 7.000000\n",
              "Meghalaya               10.000000\n",
              "Goa                     11.600000\n",
              "Puducherry              13.000000\n",
              "Jammu & Kashmir         13.000000\n",
              "Himachal Pradesh        13.900000\n",
              "Kerala                  14.000000\n",
              "Assam                   14.000000\n",
              "Odisha                  16.000000\n",
              "Daman & Diu             17.600000\n",
              "Chandigarh              18.000000\n",
              "Dadra & Nagar Haveli    18.000000\n",
              "Madhya Pradesh          19.200000\n",
              "Manipur                 19.800000\n",
              "Andhra Pradesh          20.000000\n",
              "Tamil Nadu              21.000000\n",
              "Karnataka               21.200000\n",
              "Chhattisgarh            21.500000\n",
              "Telangana               22.000000\n",
              "Haryana                 22.750000\n",
              "Gujarat                 23.000000\n",
              "Uttarakhand             25.809659\n",
              "Rajasthan               26.000000\n",
              "Sikkim                  26.800000\n",
              "Uttar Pradesh           27.000000\n",
              "Uttaranchal             27.500000\n",
              "Punjab                  28.300000\n",
              "Maharashtra             29.000000\n",
              "Bihar                   32.000000\n",
              "Jharkhand               42.000000\n",
              "Delhi                   45.000000\n",
              "West Bengal             53.700000\n",
              "Name: no2, dtype: float64"
            ]
          },
          "metadata": {
            "tags": []
          },
          "execution_count": 29
        }
      ]
    },
    {
      "cell_type": "code",
      "metadata": {
        "colab": {
          "base_uri": "https://localhost:8080/",
          "height": 395
        },
        "id": "xZ6Tpf8GCTKu",
        "outputId": "54f944ae-fc5f-4adf-a998-fe44643fe0fe"
      },
      "source": [
        "# NO2 Bar Chart\n",
        "plt.bar(no2.index, no2)\n",
        "plt.xticks(rotation = 90)\n",
        "plt.title('NO2 levels since 1990 by State')\n",
        "plt.xlabel('State')\n",
        "plt.ylabel('NO2 Level')\n",
        "plt.show()"
      ],
      "execution_count": 14,
      "outputs": [
        {
          "output_type": "display_data",
          "data": {
            "image/png": "[encoded data removed]",
            "text/plain": [
              "<Figure size 432x288 with 1 Axes>"
            ]
          },
          "metadata": {
            "tags": [],
            "needs_background": "light"
          }
        }
      ]
    },
    {
      "cell_type": "markdown",
      "metadata": {
        "id": "qcBKgFGi8t06"
      },
      "source": [
        "### rspm status"
      ]
    },
    {
      "cell_type": "code",
      "metadata": {
        "id": "4XAf9WCI8t06",
        "colab": {
          "base_uri": "https://localhost:8080/"
        },
        "outputId": "7e918684-776d-48ac-941a-0b3e2b0b81d9"
      },
      "source": [
        "rspm = india.groupby('state').rspm.median().sort_values(ascending=True)\n",
        "rspm"
      ],
      "execution_count": 30,
      "outputs": [
        {
          "output_type": "execute_result",
          "data": {
            "text/plain": [
              "state\n",
              "Sikkim                   32.000000\n",
              "Mizoram                  40.000000\n",
              "Puducherry               46.000000\n",
              "Kerala                   49.000000\n",
              "Goa                      56.000000\n",
              "Meghalaya                57.000000\n",
              "Tamil Nadu               59.000000\n",
              "Manipur                  61.000000\n",
              "Karnataka                63.000000\n",
              "Arunachal Pradesh        74.500000\n",
              "Andhra Pradesh           76.000000\n",
              "Assam                    77.000000\n",
              "Nagaland                 78.000000\n",
              "Telangana                80.000000\n",
              "Odisha                   81.000000\n",
              "Himachal Pradesh         90.000000\n",
              "Chandigarh               90.000000\n",
              "Dadra & Nagar Haveli     91.000000\n",
              "Gujarat                  95.000000\n",
              "West Bengal              96.000000\n",
              "Maharashtra              96.000000\n",
              "Chhattisgarh            108.833091\n",
              "Madhya Pradesh          108.833091\n",
              "Bihar                   108.833091\n",
              "Daman & Diu             108.833091\n",
              "Uttaranchal             112.000000\n",
              "Rajasthan               112.000000\n",
              "Jammu & Kashmir         116.000000\n",
              "Uttarakhand             135.000000\n",
              "Delhi                   136.000000\n",
              "Haryana                 137.500000\n",
              "Punjab                  147.000000\n",
              "Uttar Pradesh           160.000000\n",
              "Jharkhand               165.000000\n",
              "Name: rspm, dtype: float64"
            ]
          },
          "metadata": {
            "tags": []
          },
          "execution_count": 30
        }
      ]
    },
    {
      "cell_type": "code",
      "metadata": {
        "colab": {
          "base_uri": "https://localhost:8080/",
          "height": 395
        },
        "id": "5UHKIV5HClim",
        "outputId": "415993c2-7112-45ce-f5ad-2580828f05a8"
      },
      "source": [
        "# RSMP Bar Chart By State\n",
        "plt.bar(rspm.index,rspm)\n",
        "plt.xticks(rotation=90)\n",
        "plt.title('RSPM levels since 1990 by State')\n",
        "plt.xlabel('State')\n",
        "plt.ylabel('RSMP Label')\n",
        "plt.show()"
      ],
      "execution_count": 16,
      "outputs": [
        {
          "output_type": "display_data",
          "data": {
            "image/png": "[encoded data removed]",
            "text/plain": [
              "<Figure size 432x288 with 1 Axes>"
            ]
          },
          "metadata": {
            "tags": [],
            "needs_background": "light"
          }
        }
      ]
    },
    {
      "cell_type": "markdown",
      "metadata": {
        "id": "3FwLqcM38t06"
      },
      "source": [
        "### spm status"
      ]
    },
    {
      "cell_type": "code",
      "metadata": {
        "id": "waNuxUjb8t07",
        "colab": {
          "base_uri": "https://localhost:8080/"
        },
        "outputId": "9c6963c3-0654-434f-c606-3cc971b94ff2"
      },
      "source": [
        "spm = india.groupby('state').spm.median().sort_values(ascending=True)\n",
        "spm"
      ],
      "execution_count": 31,
      "outputs": [
        {
          "output_type": "execute_result",
          "data": {
            "text/plain": [
              "state\n",
              "Sikkim                   75.00000\n",
              "Manipur                 120.50000\n",
              "Puducherry              191.00000\n",
              "Goa                     199.00000\n",
              "Daman & Diu             200.50000\n",
              "Andhra Pradesh          220.78348\n",
              "Meghalaya               220.78348\n",
              "Mizoram                 220.78348\n",
              "Nagaland                220.78348\n",
              "Odisha                  220.78348\n",
              "Punjab                  220.78348\n",
              "Tamil Nadu              220.78348\n",
              "Telangana               220.78348\n",
              "Uttar Pradesh           220.78348\n",
              "Uttarakhand             220.78348\n",
              "Rajasthan               220.78348\n",
              "Maharashtra             220.78348\n",
              "Kerala                  220.78348\n",
              "Karnataka               220.78348\n",
              "Jharkhand               220.78348\n",
              "Jammu & Kashmir         220.78348\n",
              "Himachal Pradesh        220.78348\n",
              "Haryana                 220.78348\n",
              "Gujarat                 220.78348\n",
              "Dadra & Nagar Haveli    220.78348\n",
              "Chhattisgarh            220.78348\n",
              "Chandigarh              220.78348\n",
              "Bihar                   220.78348\n",
              "Assam                   220.78348\n",
              "Arunachal Pradesh       220.78348\n",
              "Madhya Pradesh          220.78348\n",
              "West Bengal             220.78348\n",
              "Delhi                   253.00000\n",
              "Uttaranchal             268.00000\n",
              "Name: spm, dtype: float64"
            ]
          },
          "metadata": {
            "tags": []
          },
          "execution_count": 31
        }
      ]
    },
    {
      "cell_type": "code",
      "metadata": {
        "colab": {
          "base_uri": "https://localhost:8080/",
          "height": 395
        },
        "id": "biQMFa6ZCuPM",
        "outputId": "1a488136-4147-42ff-e364-ae22049fb2d0"
      },
      "source": [
        "# SPM Bar Chart by State\n",
        "plt.bar(spm.index, spm)\n",
        "plt.xticks(rotation = 90)\n",
        "plt.title('SPM levels since 1990 by State')\n",
        "plt.xlabel('State')\n",
        "plt.ylabel('SPM level')\n",
        "plt.show()"
      ],
      "execution_count": 18,
      "outputs": [
        {
          "output_type": "display_data",
          "data": {
            "image/png": "[encoded data removed]",
            "text/plain": [
              "<Figure size 432x288 with 1 Axes>"
            ]
          },
          "metadata": {
            "tags": [],
            "needs_background": "light"
          }
        }
      ]
    },
    {
      "cell_type": "markdown",
      "metadata": {
        "id": "B0hn0LGp8t07"
      },
      "source": [
        "### What is the yearly trend in a particular state, say ‘Andhra Pradesh’?\n",
        "\n",
        "Create a new dataframe containing the NO2, SO2, rspm, and spm data regarding state ‘Andhra Pradesh’ only and group it by ‘year’. Display top 5 records after."
      ]
    },
    {
      "cell_type": "code",
      "metadata": {
        "id": "z-zNdRrk-py0"
      },
      "source": [
        ""
      ],
      "execution_count": null,
      "outputs": []
    },
    {
      "cell_type": "code",
      "metadata": {
        "id": "iml-fnna8t07",
        "colab": {
          "base_uri": "https://localhost:8080/",
          "height": 235
        },
        "outputId": "8c72ea31-bb6c-4e93-e54e-ee1b03a226fd"
      },
      "source": [
        "# Creating Dataset for Pradesh alone\n",
        "pradesh = india[india.state =='Andhra Pradesh']\n",
        "pradesh = pradesh.drop(['state','type','date', 'pm2_5', 'location'], axis =1)\n",
        "\n",
        "# Grouping Pradesh by year (Top 5 years)\n",
        "pradesh_year = pradesh.groupby('year').median()\n",
        "pradesh_year.head()"
      ],
      "execution_count": 27,
      "outputs": [
        {
          "output_type": "execute_result",
          "data": {
            "text/html": [
              "<div>\n",
              "<style scoped>\n",
              "    .dataframe tbody tr th:only-of-type {\n",
              "        vertical-align: middle;\n",
              "    }\n",
              "\n",
              "    .dataframe tbody tr th {\n",
              "        vertical-align: top;\n",
              "    }\n",
              "\n",
              "    .dataframe thead th {\n",
              "        text-align: right;\n",
              "    }\n",
              "</style>\n",
              "<table border=\"1\" class=\"dataframe\">\n",
              "  <thead>\n",
              "    <tr style=\"text-align: right;\">\n",
              "      <th></th>\n",
              "      <th>so2</th>\n",
              "      <th>no2</th>\n",
              "      <th>rspm</th>\n",
              "      <th>spm</th>\n",
              "    </tr>\n",
              "    <tr>\n",
              "      <th>year</th>\n",
              "      <th></th>\n",
              "      <th></th>\n",
              "      <th></th>\n",
              "      <th></th>\n",
              "    </tr>\n",
              "  </thead>\n",
              "  <tbody>\n",
              "    <tr>\n",
              "      <th>1990</th>\n",
              "      <td>5.60</td>\n",
              "      <td>13.6</td>\n",
              "      <td>108.833091</td>\n",
              "      <td>179.00000</td>\n",
              "    </tr>\n",
              "    <tr>\n",
              "      <th>1991</th>\n",
              "      <td>8.25</td>\n",
              "      <td>12.8</td>\n",
              "      <td>108.833091</td>\n",
              "      <td>141.50000</td>\n",
              "    </tr>\n",
              "    <tr>\n",
              "      <th>1992</th>\n",
              "      <td>12.40</td>\n",
              "      <td>27.6</td>\n",
              "      <td>108.833091</td>\n",
              "      <td>192.00000</td>\n",
              "    </tr>\n",
              "    <tr>\n",
              "      <th>1993</th>\n",
              "      <td>6.00</td>\n",
              "      <td>11.4</td>\n",
              "      <td>108.833091</td>\n",
              "      <td>220.78348</td>\n",
              "    </tr>\n",
              "    <tr>\n",
              "      <th>1994</th>\n",
              "      <td>8.70</td>\n",
              "      <td>14.2</td>\n",
              "      <td>108.833091</td>\n",
              "      <td>220.78348</td>\n",
              "    </tr>\n",
              "  </tbody>\n",
              "</table>\n",
              "</div>"
            ],
            "text/plain": [
              "        so2   no2        rspm        spm\n",
              "year                                    \n",
              "1990   5.60  13.6  108.833091  179.00000\n",
              "1991   8.25  12.8  108.833091  141.50000\n",
              "1992  12.40  27.6  108.833091  192.00000\n",
              "1993   6.00  11.4  108.833091  220.78348\n",
              "1994   8.70  14.2  108.833091  220.78348"
            ]
          },
          "metadata": {
            "tags": []
          },
          "execution_count": 27
        }
      ]
    },
    {
      "cell_type": "code",
      "metadata": {
        "id": "3xE9n0Qf8t07",
        "colab": {
          "base_uri": "https://localhost:8080/",
          "height": 295
        },
        "outputId": "8db6dce7-d7a2-4915-ac59-616c1036d0b8"
      },
      "source": [
        "# Display yearly trend graph (year vs. value) in pairs: (a) so2 and no2 (b) rspm and spm. \n",
        "# So, you will display TWO graphs altogether.\n",
        "\n",
        "# A.) so2 & no2\n",
        "plt.plot(pradesh_year.index, pradesh_year.so2, color ='g',linewidth = 2.5,label ='SO2')\n",
        "plt.plot(pradesh_year.index, pradesh_year.no2, linewidth = 2.5, label ='NO2')\n",
        "plt.legend()\n",
        "plt.title('SO2 & NO2 Since 1990')\n",
        "plt.xlabel('Year')\n",
        "plt.ylabel('Quality Levels')\n",
        "plt.show()"
      ],
      "execution_count": 20,
      "outputs": [
        {
          "output_type": "display_data",
          "data": {
            "image/png": "[encoded data removed]",
            "text/plain": [
              "<Figure size 432x288 with 1 Axes>"
            ]
          },
          "metadata": {
            "tags": [],
            "needs_background": "light"
          }
        }
      ]
    },
    {
      "cell_type": "code",
      "metadata": {
        "colab": {
          "base_uri": "https://localhost:8080/",
          "height": 295
        },
        "id": "N9fAwke2lcDE",
        "outputId": "76c81e8c-ccbb-4ae9-ce68-354d9856d2c9"
      },
      "source": [
        "# B.) RSPM & SPM \n",
        "\n",
        "plt.plot(pradesh_year.index, pradesh_year.rspm, color ='c',linewidth = 2.8,label ='RSPM')\n",
        "plt.plot(pradesh_year.index, pradesh_year.spm, color = 'r',linewidth = 2.8, label ='SPM')\n",
        "plt.legend()\n",
        "plt.title('RSPM & SPM Since 1990')\n",
        "plt.xlabel('Year')\n",
        "plt.ylabel('Quality Levels')\n",
        "plt.show()"
      ],
      "execution_count": 21,
      "outputs": [
        {
          "output_type": "display_data",
          "data": {
            "image/png": "[encoded data removed]",
            "text/plain": [
              "<Figure size 432x288 with 1 Axes>"
            ]
          },
          "metadata": {
            "tags": [],
            "needs_background": "light"
          }
        }
      ]
    },
    {
      "cell_type": "markdown",
      "metadata": {
        "id": "VkQYlglF8t08"
      },
      "source": [
        "The data indicated that the large majority of states in India observed very similar median Suspended Particulate Matter (SPM) levels. However, **Manipur** and **Sikkim** observed levels far lower than the rest of the states in India.\n",
        "\n",
        "It was interesting to find that SPM levels decreased largely from around 1995 to about 2003 in Andrah Pradesh. SPM decreased dramatically in 2002 to below 100 and this was the only year that it dropped that low.\n",
        "\n",
        "In addition, the analysis indicated that Sulfur dioxide (so2) levels have steadily decreased since about 1995 in Andrah Pradesh.\n",
        "\n",
        "Furthermore, The Respirable Suspended Particulate Matter (RSMP) remained nearly constant until 2002 where it began to decrease considerably every year overall. RSMP levels have decreased by roughly 35% total since 1990. \n",
        "\n",
        "Nitrogen Dioxide (NO2) levels have experienced considerable volatility in the years since 1990 in that its NO2 levels have observed very large increases and decreases per year."
      ]
    }
  ]
}